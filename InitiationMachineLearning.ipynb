{
  "nbformat": 4,
  "nbformat_minor": 0,
  "metadata": {
    "colab": {
      "name": "InitiationMachineLearning.ipynb",
      "provenance": [],
      "authorship_tag": "ABX9TyOImj70ZUHDc68YWP+8UFhx",
      "include_colab_link": true
    },
    "kernelspec": {
      "name": "python3",
      "display_name": "Python 3"
    }
  },
  "cells": [
    {
      "cell_type": "markdown",
      "metadata": {
        "id": "view-in-github",
        "colab_type": "text"
      },
      "source": [
        "<a href=\"https://colab.research.google.com/github/Tommy975/ML_Intro/blob/main/InitiationMachineLearning.ipynb\" target=\"_parent\"><img src=\"https://colab.research.google.com/assets/colab-badge.svg\" alt=\"Open In Colab\"/></a>"
      ]
    },
    {
      "cell_type": "markdown",
      "metadata": {
        "id": "sIhIKg8CpeyM"
      },
      "source": [
        "# OpenClassroom - Initiez-vous au machine learning - Régression linéaire\r\n",
        "_____ \r\n",
        "### I. Problématique et données\r\n",
        "\r\n",
        "_____ \r\n",
        "\r\n",
        "\r\n"
      ]
    },
    {
      "cell_type": "markdown",
      "metadata": {
        "id": "lebwFO3Grd4x"
      },
      "source": [
        "\r\n",
        "\r\n",
        "> Étant donné les caractéristiques de mon appartement, combien devrais-je normalement payer mon loyer ?\r\n",
        "\r\n",
        "Notre training set se compose d'un ensemble de N=545 surfaces et loyers associés.\r\n",
        "\r\n",
        "Soit soit forme mathématique: **_(x,y) = (surface,loyer)_**\r\n",
        "\r\n",
        "Commençons par afficher nos données.\r\n",
        "\r\n",
        "_\"1) From Github (Files < 25MB)_\r\n",
        "_The easiest way to upload a CSV file is from your GitHub repository. Click on the dataset in your repository, then click on View Raw. Copy the link to the raw dataset and store it as a string variable called url in Colab as shown below (a cleaner method but it’s not necessary). The last step is to load the url into Pandas read_csv to get the dataframe.\"_\r\n",
        "\r\n"
      ]
    },
    {
      "cell_type": "code",
      "metadata": {
        "colab": {
          "base_uri": "https://localhost:8080/",
          "height": 264
        },
        "id": "orp6Ofqko83R",
        "outputId": "e78b31dc-0a63-4903-8daf-96a1d39927ef"
      },
      "source": [
        "import numpy as np\r\n",
        "import pandas as pd \r\n",
        "import matplotlib.pyplot as plt\r\n",
        "\r\n",
        "# On charge le dataset dans un dataframe panda\r\n",
        "url = 'https://raw.githubusercontent.com/Tommy975/ML_DL/main/Datasets/house.csv?token=AFLKTMRQXFWTDRXZWAOZ4BDADGGFU'\r\n",
        "df1 = pd.read_csv(url)\r\n",
        "\r\n",
        "# on affcihe le nuage de point dont on dispose\r\n",
        "plt.plot(df1['surface'],df1['loyer'], 'ro', markersize=4)\r\n",
        "plt.show()\r\n"
      ],
      "execution_count": null,
      "outputs": [
        {
          "output_type": "display_data",
          "data": {
            "image/png": "[encoded data removed]",
            "text/plain": [
              "<Figure size 432x288 with 1 Axes>"
            ]
          },
          "metadata": {
            "tags": [],
            "needs_background": "light"
          }
        }
      ]
    },
    {
      "cell_type": "markdown",
      "metadata": {
        "id": "iCTtVcESzCkz"
      },
      "source": [
        "> D'apres la figure ci-dessus, il est facilement observable qu'il existe **_une relation linéaire entre la surface et le montant du loyer_**."
      ]
    },
    {
      "cell_type": "code",
      "metadata": {
        "colab": {
          "base_uri": "https://localhost:8080/",
          "height": 282
        },
        "id": "g-_S6Wn8w6rA",
        "outputId": "d7937c26-6e7e-4cc4-d1e6-b435b095a6ee"
      },
      "source": [
        "house_data = df1[df1['loyer'] < 10000]\r\n",
        "\r\n",
        "plt.plot(house_data['loyer'], house_data['surface'], 'ro', markersize=4 )"
      ],
      "execution_count": null,
      "outputs": [
        {
          "output_type": "execute_result",
          "data": {
            "text/plain": [
              "[<matplotlib.lines.Line2D at 0x7fa268347128>]"
            ]
          },
          "metadata": {
            "tags": []
          },
          "execution_count": 5
        },
        {
          "output_type": "display_data",
          "data": {
            "image/png": "[encoded data removed]",
            "text/plain": [
              "<Figure size 432x288 with 1 Axes>"
            ]
          },
          "metadata": {
            "tags": [],
            "needs_background": "light"
          }
        }
      ]
    },
    {
      "cell_type": "markdown",
      "metadata": {
        "id": "a-9qWOQy_z-q"
      },
      "source": [
        "On trouve  la valeur numerique de theta pour nos données:"
      ]
    },
    {
      "cell_type": "code",
      "metadata": {
        "colab": {
          "base_uri": "https://localhost:8080/"
        },
        "id": "jX1DbqJa3G3F",
        "outputId": "120e60a6-9604-4702-b092-6a38b2bc3546"
      },
      "source": [
        "# On décompose le dataset et on le transforme en matrices pour pouvoir effectuer notre calcul\r\n",
        "X = np.matrix([np.ones(house_data.shape[0]), house_data['surface'].values]).T\r\n",
        "y = np.matrix(house_data['loyer']).T\r\n",
        "\r\n",
        "# On effectue le calcul exact du paramètre theta (direct)\r\n",
        "theta = np.linalg.inv(X.T.dot(X)).dot(X.T).dot(y)\r\n",
        "\r\n",
        "print(theta)"
      ],
      "execution_count": null,
      "outputs": [
        {
          "output_type": "stream",
          "text": [
            "[[266.45460292]\n",
            " [ 30.66119596]]\n"
          ],
          "name": "stdout"
        }
      ]
    },
    {
      "cell_type": "markdown",
      "metadata": {
        "id": "UNCDpgEJAIAf"
      },
      "source": [
        "Notre modèle final qui colle bien aux données sera donc dans notre cas (approximativement) :\r\n",
        "\r\n",
        "> loyer=30.7×surface+266.4"
      ]
    },
    {
      "cell_type": "markdown",
      "metadata": {
        "id": "3UXOHMPFAsJs"
      },
      "source": [
        "Représentons graphiquement la droite que nous avons trouvée, afin de s'assurer que celle-ci *\"colle bien aux données\"*"
      ]
    },
    {
      "cell_type": "code",
      "metadata": {
        "colab": {
          "base_uri": "https://localhost:8080/",
          "height": 278
        },
        "id": "BpA3aKGm_8Cx",
        "outputId": "22d6eff6-3668-410a-91e3-4b1bc81cc734"
      },
      "source": [
        "plt.xlabel('Surface')\r\n",
        "plt.ylabel('Loyer')\r\n",
        "\r\n",
        "plt.plot(house_data['surface'], house_data['loyer'], 'ro', markersize=4)\r\n",
        "\r\n",
        "# On affiche la droite ente 0 et 250\r\n",
        "plt.plot([0,250], [theta.item(0), theta.item(0)+250*theta.item(1)], linestyle='--',c='#000000')\r\n",
        "\r\n",
        "plt.show()\r\n"
      ],
      "execution_count": null,
      "outputs": [
        {
          "output_type": "display_data",
          "data": {
            "image/png": "[encoded data removed]",
            "text/plain": [
              "<Figure size 432x288 with 1 Axes>"
            ]
          },
          "metadata": {
            "tags": [],
            "needs_background": "light"
          }
        }
      ]
    },
    {
      "cell_type": "code",
      "metadata": {
        "id": "APj_pkUABNIN"
      },
      "source": [
        ""
      ],
      "execution_count": null,
      "outputs": []
    },
    {
      "cell_type": "markdown",
      "metadata": {
        "id": "A0iUfTgHCas1"
      },
      "source": [
        "# Utiliser le modeles pour faier des prédictions\r\n",
        "-----\r\n",
        "\r\n",
        "Exemple pour une surface de 35m^2:\r\n",
        "\r\n",
        "\r\n",
        "```\r\n",
        "# This is formatted as code\r\n",
        "theta.item(0) + theta.item(1) * 35 = 1339.646166\r\n",
        "```\r\n",
        "\r\n",
        "--------\r\n",
        "\r\n",
        "Nous venons d'implémenter l'algorythme de regression lineraire. Cenpendant, celui-ci, tout comme plusieurs autres, sont déja implémenté dans divers librairies (sklearn par exemple)\r\n",
        "\r\n",
        "\r\n",
        "\r\n",
        "```\r\n",
        "# This is formatted as code\r\n",
        "from sklearnimport linera_model\r\n",
        "regr = linera_model.LineraRegression()\r\n",
        "regr.fit(X,y)\r\n",
        "regr.predict(<TestData>)\r\n",
        "```\r\n",
        "\r\n"
      ]
    },
    {
      "cell_type": "markdown",
      "metadata": {
        "id": "0nqK9bLGLHZS"
      },
      "source": [
        "# Échantillonnage des données\r\n",
        "\r\n",
        "Ca ne sert à rien d'utiliser toutes les données pour tester des modèles et se retrouver à attendre à chaque fois plusieurs minutes au lieu de quelques secondes, n'est-ce pas ?\r\n",
        "\r\n",
        "> On peut quand même utiliser tout le dataset pour entraîner le modèle final. Mais pour explorer et pour le travail quotidien, il vaut en général mieux tester sur une petite partie des données.\r\n",
        "\r\n",
        "Le problème lorsque l'on effectue un échantillonnage, c'est que l’on doit être bien sûr que cet échantillon est représentatif de toutes les données. En effet, dans l’exemple des loyers par exemple, si je ne récupère que des données qui proviennent d'Ile-de-France, je serai forcément biaisé pour mes prédictions de loyer qui proviennent d'autres régions. Il faut donc s’assurer de piocher les données de manière uniforme sur toute la population que l'on souhaite considérer.\r\n",
        "\r\n",
        "> Attention!! Il faut donc être vraiment vigilant lors du sampling. en effet, si l'on ne selectionne pas de maniere bien distribué, **On augment le biais**. De ce fait, notre modele en resortirait moins representatif de la réalité.\r\n",
        "\r\n",
        "### Échantillonnage a proprement parler\r\n",
        "\r\n",
        "\r\n",
        "\r\n",
        "```\r\n",
        "# This is formatted as code\r\n",
        "\r\n",
        "sample= np.random.randint(data_size, size=int(data_size*0.1) )\r\n",
        "sample_data = data[sample]\r\n",
        "\r\n",
        "```\r\n",
        "\r\n",
        "La meilleur approche est de séparer des le départ notre jeu de données en deux parties distinctes:\r\n",
        "\r\n",
        "\r\n",
        "*   Training Set\r\n",
        "*   Testing Set\r\n",
        "\r\n",
        "Cést a nous de définir la proportion du dataset que l'on so8uhaite allourer a chaque partie.\r\n",
        "\r\n",
        "De maniere generale, les données sont séoarées selon les proportions suivantes: 80%(Training) 20%(Testing)\r\n",
        "\r\n",
        "La Librairie SKlearn nous permet de réaliser cette séparation des données a l'aide de la fontion ` train_test_split ` prennant en parameter la proportion désirée:\r\n",
        "\r\n",
        "\r\n",
        "\r\n",
        "```\r\n",
        "# This is formatted as code\r\n",
        "\r\n",
        "from sklearn.model_selection import train_test_split\r\n",
        "\r\n",
        "xtrain, xtest, ytrain, ytest = train_test_split(X, y, train_size=0.8)\r\n",
        "```\r\n",
        "\r\n"
      ]
    },
    {
      "cell_type": "code",
      "metadata": {
        "id": "47jWbS74NTiV"
      },
      "source": [
        ""
      ],
      "execution_count": null,
      "outputs": []
    }
  ]
}
