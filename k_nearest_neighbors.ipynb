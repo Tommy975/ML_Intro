{
  "nbformat": 4,
  "nbformat_minor": 0,
  "metadata": {
    "colab": {
      "name": "k-nearest-neighbors.ipynb",
      "provenance": [],
      "authorship_tag": "ABX9TyNo/+BdQRP06mSmZQVlgX83",
      "include_colab_link": true
    },
    "kernelspec": {
      "name": "python3",
      "display_name": "Python 3"
    }
  },
  "cells": [
    {
      "cell_type": "markdown",
      "metadata": {
        "id": "view-in-github",
        "colab_type": "text"
      },
      "source": [
        "<a href=\"https://colab.research.google.com/github/Tommy975/ML_Intro/blob/main/k_nearest_neighbors.ipynb\" target=\"_parent\"><img src=\"https://colab.research.google.com/assets/colab-badge.svg\" alt=\"Open In Colab\"/></a>"
      ]
    },
    {
      "cell_type": "markdown",
      "metadata": {
        "id": "mpuhUEOWUOSZ"
      },
      "source": [
        "# K-Nearest-Neighbors\r\n",
        "\r\n",
        "En fait, le k-NN est un type spécial d’algorithme qui n’utilise pas de modèle statistique. Il est \"non paramétrique\" et il se base uniquement sur les données d’entraînement. Ce type d’algorithme est appelé memory-based. A contrario, la régression linéaire est paramétrique, de paramètre θ et ne va donc pas avoir besoin de conserver toutes les données pour effectuer des prédictions, mais seulement θ.\r\n",
        "\r\n",
        "\r\n",
        "> k n'est pas un paramètre mais un __hyperparamètre__, c'est-à-dire que contrairement aux paramètres classiques, il ne va pas pouvoir être appris automatiquement par l'algorithme à partir des données d'entraînement. Les hyperparamètres permettent de caractériser le modèle (complexité, rapidité de convergence, etc). Ce ne sont pas les données d'apprentissage qui vont permettre de trouver ces paramètres (en l'occurrence ici, le nombre de voisins **k**), mais bien à nous de l'optimiser à l'aide du jeu de données test.\r\n",
        "\r\n",
        "#Utilisation de k-NN sur le dataset Mnist\r\n",
        "\r\n",
        "### Les données et la problématique\r\n",
        "\r\n",
        "> *\" D'abord, parlons du jeu de données que nous allons utiliser. C'est un dataset très célèbre, appelé MNIST. Il est constitué d'un ensemble de 70000 images 28x28 pixels en noir et blanc annotées du chiffre correspondant (entre 0 et 9). L'objectif de ce jeu de données était de permettre à un ordinateur d'apprendre à reconnaître des nombres manuscrits automatiquement (pour lire des chèques par exemple). Ce dataset utilise des données réelles qui ont déjà été pré-traitées pour être plus facilement utilisables par un algorithme.\"*\r\n",
        "\r\n",
        "Pour charger ce jeu de données:\r\n",
        "```\r\n",
        "# This is formatted as code\r\n",
        "from sklearn.datasets import fetch_openml\r\n",
        "mnist = fetch_openml('mnist_784', version=1)\r\n",
        "```\r\n",
        "\r\n"
      ]
    },
    {
      "cell_type": "code",
      "metadata": {
        "id": "01s_bMcpwUO4"
      },
      "source": [
        "import numpy as np\r\n",
        "import pandas as pd \r\n",
        "import matplotlib.pyplot as plt"
      ],
      "execution_count": 4,
      "outputs": []
    },
    {
      "cell_type": "code",
      "metadata": {
        "id": "EwTL0HVQPk-5"
      },
      "source": [
        "from sklearn.datasets import fetch_openml\r\n",
        "mnist = fetch_openml('mnist_784', version=1)"
      ],
      "execution_count": 1,
      "outputs": []
    },
    {
      "cell_type": "code",
      "metadata": {
        "colab": {
          "base_uri": "https://localhost:8080/"
        },
        "id": "sua2jicNrChz",
        "outputId": "2eb81ab1-9c1b-4e0f-80e4-5be0b27f6590"
      },
      "source": [
        "# Le dataset principal qui contient toutes les images\r\n",
        "print (mnist.data.shape)\r\n",
        "\r\n",
        "# Le vecteur d'annotations associé au dataset (nombre entre 0 et 9)\r\n",
        "print (mnist.target.shape)"
      ],
      "execution_count": 2,
      "outputs": [
        {
          "output_type": "stream",
          "text": [
            "(70000, 784)\n",
            "(70000,)\n"
          ],
          "name": "stdout"
        }
      ]
    },
    {
      "cell_type": "markdown",
      "metadata": {
        "id": "jNvKmJ5ivwwD"
      },
      "source": [
        "# Échantillonage\r\n"
      ]
    },
    {
      "cell_type": "code",
      "metadata": {
        "id": "N5K3xYzmv36j"
      },
      "source": [
        "sample = np.random.randint(70000, size=5000)\r\n",
        "data = mnist.data[sample]\r\n",
        "target = mnist.target[sample]"
      ],
      "execution_count": 6,
      "outputs": []
    },
    {
      "cell_type": "markdown",
      "metadata": {
        "id": "kpduH4RnwbVy"
      },
      "source": [
        "#Séparation training/testing set"
      ]
    },
    {
      "cell_type": "code",
      "metadata": {
        "id": "QTWTGqPqwMGn"
      },
      "source": [
        "from sklearn.model_selection import train_test_split\r\n",
        "\r\n",
        "xtrain, xtest, ytrain, ytest = train_test_split(data, target, train_size=0.8)"
      ],
      "execution_count": 7,
      "outputs": []
    },
    {
      "cell_type": "markdown",
      "metadata": {
        "id": "FEW0JlAOxQKZ"
      },
      "source": [
        "#Le k-NN"
      ]
    },
    {
      "cell_type": "code",
      "metadata": {
        "colab": {
          "base_uri": "https://localhost:8080/"
        },
        "id": "An3-7Le_w7m3",
        "outputId": "189040b2-b576-4774-fe12-5a7fcb4298bb"
      },
      "source": [
        "from sklearn import neighbors\r\n",
        "\r\n",
        "knn =neighbors.KNeighborsClassifier(n_neighbors=4)\r\n",
        "knn.fit(xtrain,ytrain)"
      ],
      "execution_count": 15,
      "outputs": [
        {
          "output_type": "execute_result",
          "data": {
            "text/plain": [
              "KNeighborsClassifier(algorithm='auto', leaf_size=30, metric='minkowski',\n",
              "                     metric_params=None, n_jobs=None, n_neighbors=4, p=2,\n",
              "                     weights='uniform')"
            ]
          },
          "metadata": {
            "tags": []
          },
          "execution_count": 15
        }
      ]
    },
    {
      "cell_type": "code",
      "metadata": {
        "colab": {
          "base_uri": "https://localhost:8080/"
        },
        "id": "FcBCi5iuxq9R",
        "outputId": "1f9e51d1-17e7-4de0-bf7d-5d8bd3aca340"
      },
      "source": [
        "error = 1- knn.score(xtest, ytest)\r\n",
        "print(\"Erreur = %f\" % error)"
      ],
      "execution_count": 16,
      "outputs": [
        {
          "output_type": "stream",
          "text": [
            "Erreur = 0.075000\n"
          ],
          "name": "stdout"
        }
      ]
    },
    {
      "cell_type": "markdown",
      "metadata": {
        "id": "xo_59isY4r4c"
      },
      "source": [
        "# Optimisation\r\n",
        "\r\n",
        "On test l'algo pour des valeurs de k allant de 2 a 15 afin de mesurer l'erreur et de déterminer la performance en focntion de k:\r\n",
        "\r\n"
      ]
    },
    {
      "cell_type": "code",
      "metadata": {
        "colab": {
          "base_uri": "https://localhost:8080/",
          "height": 264
        },
        "id": "l5iG8CTIyRI2",
        "outputId": "e963ebaf-63ba-4510-93a9-26877316233b"
      },
      "source": [
        "errors = []\r\n",
        "\r\n",
        "for k in range(2,15):\r\n",
        "  knn = neighbors.KNeighborsClassifier(k)\r\n",
        "  errors.append(100 * ( 1 - knn.fit(xtrain,ytrain).score(xtest,ytest)))\r\n",
        "\r\n",
        "plt.plot(range(2,15), errors, 'o-')\r\n",
        "plt.show()"
      ],
      "execution_count": 21,
      "outputs": [
        {
          "output_type": "display_data",
          "data": {
            "image/png": "[encoded data removed]",
            "text/plain": [
              "<Figure size 432x288 with 1 Axes>"
            ]
          },
          "metadata": {
            "tags": [],
            "needs_background": "light"
          }
        }
      ]
    },
    {
      "cell_type": "code",
      "metadata": {
        "colab": {
          "base_uri": "https://localhost:8080/",
          "height": 264
        },
        "id": "kw5VS9d851Kf",
        "outputId": "d6e02f5c-caa0-4e47-d05e-221d9829de8b"
      },
      "source": [
        "  # On récupère le classifieur le plus performant\r\n",
        "knn = neighbors.KNeighborsClassifier(5)\r\n",
        "knn.fit(xtrain, ytrain)\r\n",
        "\r\n",
        "# On récupère les prédictions sur les données test\r\n",
        "predicted = knn.predict(xtest)\r\n",
        "\r\n",
        "# On redimensionne les données sous forme d'images\r\n",
        "images = xtest.reshape((-1, 28, 28))\r\n",
        "\r\n",
        "# On selectionne un echantillon de 12 images au hasard\r\n",
        "select = np.random.randint(images.shape[0], size=12)\r\n",
        "\r\n",
        "# On affiche les images avec la prédiction associée\r\n",
        "fig,ax = plt.subplots(3,4)\r\n",
        "\r\n",
        "for index, value in enumerate(select):\r\n",
        "    plt.subplot(3,4,index+1)\r\n",
        "    plt.axis('off')\r\n",
        "    plt.imshow(images[value],cmap=plt.cm.gray_r,interpolation=\"nearest\")\r\n",
        "    plt.title('Predicted: {}'.format( predicted[value]) )\r\n",
        "\r\n",
        "plt.show()"
      ],
      "execution_count": 22,
      "outputs": [
        {
          "output_type": "display_data",
          "data": {
            "image/png": "[encoded data removed]",
            "text/plain": [
              "<Figure size 432x288 with 12 Axes>"
            ]
          },
          "metadata": {
            "tags": [],
            "needs_background": "light"
          }
        }
      ]
    },
    {
      "cell_type": "code",
      "metadata": {
        "colab": {
          "base_uri": "https://localhost:8080/",
          "height": 264
        },
        "id": "3db-wahIB78Z",
        "outputId": "7b78166b-dd97-4448-ce2c-b6e0dd4cdf44"
      },
      "source": [
        "misclass = (ytest != predicted)\r\n",
        "misclass_images = images[misclass,:,:]\r\n",
        "misclass_predicted = predicted[misclass]\r\n",
        "\r\n",
        "# ON sélectionne un echantillon de ces images\r\n",
        "select = np.random.randint(misclass_images.shape[0], size=12)\r\n",
        "\r\n",
        "for index, value in enumerate(select):\r\n",
        "  plt.subplot(3,4,index+1)\r\n",
        "  plt.axis('off')\r\n",
        "  plt.imshow(misclass_images[value], cmap=plt.cm.gray_r, interpolation='nearest')\r\n",
        "  plt.title('Predicted: {}'.format(misclass_predicted[value]))\r\n",
        "\r\n",
        "plt.show()"
      ],
      "execution_count": 25,
      "outputs": [
        {
          "output_type": "display_data",
          "data": {
            "image/png": "[encoded data removed]",
            "text/plain": [
              "<Figure size 432x288 with 12 Axes>"
            ]
          },
          "metadata": {
            "tags": [],
            "needs_background": "light"
          }
        }
      ]
    },
    {
      "cell_type": "code",
      "metadata": {
        "id": "ar4c-dg4CHKa"
      },
      "source": [
        ""
      ],
      "execution_count": null,
      "outputs": []
    }
  ]
}